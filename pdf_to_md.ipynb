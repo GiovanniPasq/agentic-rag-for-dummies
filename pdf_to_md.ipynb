{
  "nbformat": 4,
  "nbformat_minor": 0,
  "metadata": {
    "colab": {
      "provenance": [],
      "authorship_tag": "ABX9TyOYxrV5I5FRwReX6q/CVwjg",
      "include_colab_link": true
    },
    "kernelspec": {
      "name": "python3",
      "display_name": "Python 3"
    },
    "language_info": {
      "name": "python"
    }
  },
  "cells": [
    {
      "cell_type": "markdown",
      "metadata": {
        "id": "view-in-github",
        "colab_type": "text"
      },
      "source": [
        "<a href=\"https://colab.research.google.com/github/GiovanniPasq/agentic-rag-for-dummies/blob/main/pdf_to_md.ipynb\" target=\"_parent\"><img src=\"https://colab.research.google.com/assets/colab-badge.svg\" alt=\"Open In Colab\"/></a>"
      ]
    },
    {
      "cell_type": "markdown",
      "source": [
        "## PDF to Markdown Conversion\n",
        "\n",
        "Before building your RAG system, you’ll need to convert your PDF documents into a machine-readable format. While **Markdown** is a common choice, you can also export to other formats such as **JSON**, **TXT**, or others depending on your pipeline and requirements.\n",
        "\n",
        "There are two main approaches you can use:\n",
        "\n",
        "### Option 1: VLM-Based Conversion (Recommended for Complex Documents)\n",
        "\n",
        "This approach uses a **Vision-Language Model (VLM)** to visually process each PDF page. It extracts text, preserves the original layout, and generates descriptions for visual elements such as images, tables, and charts.\n",
        "\n",
        "#### Why choose this method?\n",
        "\n",
        "- **Best for:** Complex layouts, multi-column documents, tables, charts, and image-heavy PDFs.  \n",
        "- **Pros:** High accuracy and excellent handling of both text and non-text elements.  \n",
        "- **Cons:** Higher computational cost and slower performance on large document batches.  \n",
        "\n",
        "The examples below demonstrate how to use the **Google Gemini API** for VLM-based conversion. However, you can easily adapt this approach to other models or frameworks—such as **OpenAI**, **Ollama**, **Claude**, or **Hugging Face**—based on your tools and infrastructure.\n",
        "\n",
        "For more information, see the official documentation:  \n",
        "**[Gemini API – Image Understanding](https://ai.google.dev/gemini-api/docs/image-understanding)**"
      ],
      "metadata": {
        "id": "qI0zQhq7pTH6"
      }
    },
    {
      "cell_type": "code",
      "execution_count": null,
      "metadata": {
        "id": "iw7cNGkRo1iX"
      },
      "outputs": [],
      "source": [
        "# Customize this system prompt based on your PDF type (e.g., academic, technical, legal).\n",
        "# This template works for 90% of documents—tweak rules as needed for your use case.\n",
        "SYSTEM_PROMPT = \"\"\"You are an expert document parser specializing in converting PDF pages to markdown format.\n",
        "\n",
        "**Your task:**\n",
        "Extract ALL content from the provided page image and return it as clean, well-structured markdown.\n",
        "\n",
        "**Text Extraction Rules:**\n",
        "1. Preserve the EXACT text as written (including typos, formatting, special characters)\n",
        "2. Maintain the logical reading order (top-to-bottom, left-to-right)\n",
        "3. Preserve hierarchical structure using appropriate markdown headers (#, ##, ###)\n",
        "4. Keep paragraph breaks and line spacing as they appear\n",
        "5. Use markdown lists (-, *, 1.) for bullet points and numbered lists\n",
        "6. Preserve text emphasis: **bold**, *italic*, `code`\n",
        "7. For multi-column layouts, extract left column first, then right column\n",
        "\n",
        "**Tables:**\n",
        "- Convert all tables to markdown table format\n",
        "- Preserve column alignment and structure\n",
        "- Use | for columns and - for headers\n",
        "\n",
        "**Mathematical Formulas:**\n",
        "- Convert to LaTeX format: inline `$formula$`, display `$$formula$$`\n",
        "- If LaTeX conversion is uncertain, describe the formula clearly\n",
        "\n",
        "**Images, Diagrams, Charts:**\n",
        "- Insert markdown image placeholder: `![Description](image)`\n",
        "- Provide a detailed, informative description including:\n",
        "  * Type of visual (photo, diagram, chart, graph, illustration)\n",
        "  * Main subject or purpose\n",
        "  * Key elements, labels, or data points\n",
        "  * Colors, patterns, or notable visual features\n",
        "  * Context or relationship to surrounding text\n",
        "- For charts/graphs: mention axes, data trends, and key values\n",
        "- For diagrams: describe components and their relationships\n",
        "\n",
        "**Special Elements:**\n",
        "- Footnotes: Use markdown footnote syntax `[^1]`\n",
        "- Citations: Preserve as written\n",
        "- Code blocks: Use triple backticks with language specification\n",
        "- Quotes: Use `>` for blockquotes\n",
        "- Links: Preserve as `[text](url)` if visible\n",
        "\n",
        "**Quality Guidelines:**\n",
        "- DO NOT add explanations, comments, or meta-information\n",
        "- DO NOT skip or summarize content\n",
        "- DO NOT invent or hallucinate text not present in the image\n",
        "- DO NOT include \"Here is the markdown...\" or similar preambles\n",
        "- Output ONLY the markdown content, nothing else\n",
        "\n",
        "**Output Format:**\n",
        "Return raw markdown with no wrapper, no code blocks, no explanations.\n",
        "Start immediately with the page content.\n",
        "\"\"\".strip()"
      ]
    },
    {
      "cell_type": "code",
      "source": [
        "!pip install PyMuPDF"
      ],
      "metadata": {
        "id": "0Tq7dqmB_K1g"
      },
      "execution_count": null,
      "outputs": []
    },
    {
      "cell_type": "code",
      "source": [
        "import os\n",
        "import fitz  # PyMuPDF\n",
        "from google import genai\n",
        "from google.genai import types\n",
        "\n",
        "def split_pdf_and_describe(pdf_path, api_key):\n",
        "    client = genai.Client(api_key=api_key)\n",
        "    pdf_document = fitz.open(pdf_path)\n",
        "    markdown_pages = {}\n",
        "\n",
        "    for page_num in range(pdf_document.page_count):\n",
        "        try:\n",
        "            page = pdf_document[page_num]\n",
        "\n",
        "            pix = page.get_pixmap(matrix=fitz.Matrix(300/72, 300/72)) # Convert page to high-res image (300 DPI)\n",
        "            img_data = pix.tobytes(\"png\")\n",
        "\n",
        "            image = types.Part.from_bytes(data=img_data, mime_type=\"image/png\")\n",
        "\n",
        "            response = client.models.generate_content(\n",
        "                config=types.GenerateContentConfig(\n",
        "                    system_instruction=SYSTEM_PROMPT,\n",
        "                    temperature=0.1\n",
        "                ),\n",
        "                model=\"gemini-2.0-flash\",\n",
        "                contents=[\"Convert this PDF page to clean, structured markdown.\", image],\n",
        "            )\n",
        "\n",
        "            markdown_pages[page_num + 1] = response.text\n",
        "            print(f\"✓ Processed page {page_num + 1}/{pdf_document.page_count}\")\n",
        "\n",
        "        except Exception as e:\n",
        "            print(f\"✗ Error on page {page_num + 1}: {e}\")\n",
        "            markdown_pages[page_num + 1] = f\"Error processing page\"\n",
        "\n",
        "    pdf_document.close()\n",
        "    return markdown_pages\n",
        "\n",
        "def process_pdf_folder(folder_path, api_key):\n",
        "    os.makedirs(\"md_output\", exist_ok=True)\n",
        "\n",
        "    for filename in os.listdir(folder_path):\n",
        "        if filename.lower().endswith('.pdf'):\n",
        "            pdf_path = os.path.join(folder_path, filename)\n",
        "            pdf_name = os.path.splitext(filename)[0]\n",
        "            markdown_pages = split_pdf_and_describe(pdf_path, api_key)\n",
        "\n",
        "            with open(os.path.join(\"md_output\", f\"{pdf_name}.md\"), 'w', encoding='utf-8') as f:\n",
        "                f.write(\"\\n\\n\".join([f\"# Page {page_num}\\n\\n{content}\" for page_num, content in markdown_pages.items()]))"
      ],
      "metadata": {
        "id": "JAdjHyTjrCRG"
      },
      "execution_count": null,
      "outputs": []
    },
    {
      "cell_type": "markdown",
      "source": [
        "### Option 2: OCR-Based Conversion\n",
        "\n",
        "This approach uses **Optical Character Recognition (OCR)** to extract text and tables from PDF documents. It is particularly effective for **scanned PDFs** or files that do not contain selectable digital text.\n",
        "\n",
        "A typical implementation uses **Docling** for OCR and table extraction, optionally combined with a **Vision-Language Model (VLM)** for image captioning. This setup ensures accurate text recognition, preserves table structures, and generates meaningful descriptions for images and other visual elements.\n",
        "\n",
        "#### Why choose this method?\n",
        "\n",
        "- **Best for:** Scanned documents, image-based PDFs, and files without embedded text.  \n",
        "- **Pros:** Reliable text extraction, excellent table structure preservation, and flexible integration with VLMs for image captions.  \n",
        "- **Cons:** Slightly lower accuracy on complex layouts compared to full VLM-based parsing.  \n",
        "\n",
        "**References and tools:**\n",
        "\n",
        "- **Docling – Picture Description:** [https://docling-project.github.io/docling/examples/pictures_description](https://docling-project.github.io/docling/examples/pictures_description)  \n",
        "- **PaddleOCR Repository:** [https://github.com/PaddlePaddle/PaddleOCR](https://github.com/PaddlePaddle/PaddleOCR)\n",
        "\n",
        "Both tools can export results in **Markdown** format and optionally use a VLM to replace images with captions generated by the model.\n",
        "\n",
        "For image captioning, if you use **Docling**, you can integrate your own VLM model.  \n",
        "You can also adopt a **hybrid approach**: convert images to **Base64** with Docling and embed them directly in the Markdown file.  \n",
        "Afterward, send the complete Markdown (including the Base64-encoded images) to **Gemini** or another VLM to generate higher-quality, context-aware captions."
      ],
      "metadata": {
        "id": "Bfk91X5ntgDd"
      }
    },
    {
      "cell_type": "code",
      "source": [
        "!pip install docling"
      ],
      "metadata": {
        "id": "DN9vM-UU_MP1"
      },
      "execution_count": null,
      "outputs": []
    },
    {
      "cell_type": "code",
      "source": [
        "def convert_pdfs_to_markdown(pdf_folder: str, output_folder: str):\n",
        "    pipeline_options = PdfPipelineOptions()\n",
        "    pipeline_options.do_table_structure = True\n",
        "    pipeline_options.do_picture_description = True\n",
        "    pipeline_options.picture_description_options = smolvlm_picture_description\n",
        "    pipeline_options.picture_description_options.prompt = (\n",
        "        \"Describe the image in detail, focusing on key elements and context, \"\n",
        "        \"while being concise and accurate.\"\n",
        "    )\n",
        "    pipeline_options.images_scale = 2.0\n",
        "    pipeline_options.generate_picture_images = True\n",
        "\n",
        "    converter = DocumentConverter(\n",
        "        format_options={\n",
        "            InputFormat.PDF: PdfFormatOption(pipeline_options=pipeline_options)\n",
        "        }\n",
        "    )\n",
        "\n",
        "    output_path = Path(output_folder)\n",
        "    output_path.mkdir(parents=True, exist_ok=True)\n",
        "\n",
        "    pdf_files = list(Path(pdf_folder).glob(\"*.pdf\"))\n",
        "\n",
        "    for pdf_file in pdf_files:\n",
        "        try:\n",
        "\n",
        "            result = converter.convert(str(pdf_file))\n",
        "            doc = result.document\n",
        "\n",
        "            markdown_content = doc.export_to_markdown()\n",
        "\n",
        "            output_file = output_path / f\"{pdf_file.stem}.md\"\n",
        "            output_file.write_text(markdown_content, encoding='utf-8')\n",
        "\n",
        "        except Exception as e:\n",
        "            print(f\"Error processing {pdf_file.name}: {e}\")\n",
        "\n",
        "    print(f\"\\nConversion complete! Output in '{output_folder}'\")\n"
      ],
      "metadata": {
        "id": "I4TlYRDft0Cb"
      },
      "execution_count": null,
      "outputs": []
    }
  ]
}